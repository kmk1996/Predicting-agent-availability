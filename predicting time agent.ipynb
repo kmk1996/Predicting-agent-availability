{
 "cells": [
  {
   "cell_type": "code",
   "execution_count": 33,
   "metadata": {},
   "outputs": [
    {
     "name": "stdout",
     "output_type": "stream",
     "text": [
      "total_time taken to 2:42:23\n"
     ]
    }
   ],
   "source": [
    "# Here the time is considered based on railway zone timings\n",
    "# Here aband_resolve_time  is considered as \"boolean\" means '0' or '1'\n",
    "# self.aband_resolve time tells that,if self.aband_resolve=0 then the issue is abandoned,else issue is resolve.\n",
    "# Here the timings are in the format of Hr:Min:Sec \n",
    "from datetime import datetime\n",
    "from datetime import timedelta\n",
    "\n",
    "class bala:\n",
    "    def __init__(self):\n",
    "        self.count=0\n",
    "    def collect_variables(self,x1,x2,x3,x4,x5):\n",
    "        self.start_time=str(x1)\n",
    "        self.abond_or_resolved=x2\n",
    "        self.answer_time=str(x3)\n",
    "        self.resolved_time=str(x4)\n",
    "        self.abandoned_time=x5\n",
    "        self.FMT='%H:%M:%S'\n",
    "       # print(self.answer_time)\n",
    "        if(True):\n",
    "            self.count=1 # checking if an issue arrived or not.\n",
    "    def checking(self):\n",
    "        if self.abandoned_time!=0:\n",
    "            \n",
    "            print(\"customer left before the issue was assigned to an agent\")\n",
    "        if self.abandoned_time ==0 and self.answer_time!=0:\n",
    "                tdelta = datetime.strptime(self.answer_time, self.FMT) - datetime.strptime(self.start_time, self.FMT)\n",
    "                if tdelta.days < 0:\n",
    "                        tdelta = timedelta(days=0,seconds=tdelta.seconds, microseconds=tdelta.microseconds)\n",
    "                        print(tdelta)\n",
    "                else:\n",
    "                    print(\"total_time taken to\", tdelta)\n",
    "\n",
    "\n",
    "\n",
    "\n",
    "\n",
    "\n",
    "\n",
    "\n",
    "\n",
    "\n",
    "\n",
    "\n",
    "if __name__=='__main__':\n",
    "    b=bala()\n",
    "    b.collect_variables('10:33:26',0,'13:15:49','12:15:49',0)\n",
    "    b.checking()"
   ]
  },
  {
   "cell_type": "code",
   "execution_count": null,
   "metadata": {},
   "outputs": [],
   "source": []
  }
 ],
 "metadata": {
  "kernelspec": {
   "display_name": "Python 3",
   "language": "python",
   "name": "python3"
  },
  "language_info": {
   "codemirror_mode": {
    "name": "ipython",
    "version": 3
   },
   "file_extension": ".py",
   "mimetype": "text/x-python",
   "name": "python",
   "nbconvert_exporter": "python",
   "pygments_lexer": "ipython3",
   "version": "3.7.6"
  }
 },
 "nbformat": 4,
 "nbformat_minor": 4
}
